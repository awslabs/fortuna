{
 "cells": [
  {
   "cell_type": "markdown",
   "id": "aa4348cc",
   "metadata": {},
   "source": [
    "# MNIST Classification"
   ]
  },
  {
   "cell_type": "markdown",
   "id": "0a80d4d5",
   "metadata": {},
   "source": [
    "In this notebook we show how to use Fortuna to obtain calibrated uncertainty estimates of predictions in an MNIST classification task, starting from scratch. In the last section of this example shows how this could have been done starting directly from outputs of a pre-trained model."
   ]
  },
  {
   "cell_type": "code",
   "execution_count": null,
   "id": "650ae785",
   "metadata": {},
   "outputs": [],
   "source": [
    "import sys  \n",
    "sys.path.insert(0, './../src')"
   ]
  },
  {
   "cell_type": "markdown",
   "id": "2a3df727",
   "metadata": {},
   "source": [
    "### Download MNIST data from TensorFlow\n",
    "Let us first download the MNIST data from [TensorFlow Datasets](https://www.tensorflow.org/datasets). Other sources would be equivalently fine."
   ]
  },
  {
   "cell_type": "code",
   "execution_count": null,
   "id": "db3425b8",
   "metadata": {},
   "outputs": [],
   "source": [
    "import tensorflow as tf\n",
    "import tensorflow_datasets as tfds\n",
    "\n",
    "def download(split_range, shuffle=False):\n",
    "    ds = tfds.load(name=\"MNIST\", split=f\"train[{split_range}]\", as_supervised=True, shuffle_files=True)\\\n",
    "             .map(lambda x, y: (tf.cast(x, tf.float32) / 255.0, y))\n",
    "    if shuffle:\n",
    "        ds = ds.shuffle(10, reshuffle_each_iteration=True)        \n",
    "    return ds.batch(128).prefetch(1)\n",
    "train_data_loader, val_data_loader, test_data_loader = download(\":80%\", shuffle=True), download(\"80%:90%\"), download(\"90%:\")"
   ]
  },
  {
   "cell_type": "markdown",
   "id": "23dc3081",
   "metadata": {},
   "source": [
    "### Convert data to a compatible data loader\n",
    "Fortuna helps you converting data and data loaders into a data loader that Fortuna can digest."
   ]
  },
  {
   "cell_type": "code",
   "execution_count": null,
   "id": "04218979",
   "metadata": {},
   "outputs": [],
   "source": [
    "from fortuna.data import DataLoader\n",
    "train_data_loader = DataLoader.from_tensorflow_data_loader(train_data_loader)\n",
    "val_data_loader = DataLoader.from_tensorflow_data_loader(val_data_loader)\n",
    "test_data_loader = DataLoader.from_tensorflow_data_loader(test_data_loader)"
   ]
  },
  {
   "cell_type": "markdown",
   "id": "59a0dc8a",
   "metadata": {},
   "source": [
    "### Build a probabilistic classifier\n",
    "Let us build a probabilistic classifier. This is an interface object containing several attributes that you can configure, i.e. `model`, `prior`, `posterior_approximator`, `output_calibrator`. In this example, we use a LeNet5 model, a Laplace posterior approximator acting on the last layer on the model, and the default temperature scaling output calibrator."
   ]
  },
  {
   "cell_type": "code",
   "execution_count": null,
   "id": "40ef60f1",
   "metadata": {},
   "outputs": [],
   "source": [
    "from fortuna.prob_model import ProbClassifier\n",
    "from fortuna.model import LeNet5\n",
    "from fortuna.prob_model.posterior import LaplacePosteriorApproximator\n",
    "output_dim = 10\n",
    "prob_model = ProbClassifier(\n",
    "    model=LeNet5(output_dim=output_dim), \n",
    "    posterior_approximator=LaplacePosteriorApproximator(which_params=([\"model\", \"params\", \"output_subnet\"],))\n",
    ")\n"
   ]
  },
  {
   "cell_type": "markdown",
   "id": "822a2c57",
   "metadata": {},
   "source": [
    "### Train the probabilistic model: posterior fitting and calibration\n",
    "We can now train the probabilistic model. This includes fitting the posterior distribution and calibrating the probabilistic model. As we are using a Laplace approximation, which start from a Maximum-A-Posteriori (MAP) approximation, we configure MAP via the argument `map_fit_config`."
   ]
  },
  {
   "cell_type": "code",
   "execution_count": null,
   "id": "bd1af457",
   "metadata": {
    "scrolled": true
   },
   "outputs": [],
   "source": [
    "from fortuna.prob_model.fit_config import FitConfig, FitMonitor\n",
    "from fortuna.metric.classification import accuracy\n",
    "status = prob_model.train(\n",
    "    train_data_loader=train_data_loader,\n",
    "    val_data_loader=val_data_loader,\n",
    "    calib_data_loader=val_data_loader,\n",
    "    map_fit_config=FitConfig(monitor=FitMonitor(early_stopping_patience=2, metrics=(accuracy,)))\n",
    ")\n"
   ]
  },
  {
   "cell_type": "markdown",
   "id": "d6568d08",
   "metadata": {},
   "source": [
    "### Estimate predictive statistics\n",
    "We can now compute some predictive statistics by invoking the `predictive` attribute of the probabilistic classifier, and the method of interest. Most predictive statistics, e.g. mean or mode, require a loader of input data points. You can easily get this from the data loader calling its method `to_inputs_loader`."
   ]
  },
  {
   "cell_type": "code",
   "execution_count": null,
   "id": "721a726e",
   "metadata": {
    "pycharm": {
     "name": "#%%\n"
    }
   },
   "outputs": [],
   "source": [
    "test_log_probs = prob_model.predictive.log_prob(data_loader=test_data_loader)\n",
    "test_inputs_loader = test_data_loader.to_inputs_loader()\n",
    "test_means = prob_model.predictive.mean(inputs_loader=test_inputs_loader)\n",
    "test_modes = prob_model.predictive.mode(inputs_loader=test_inputs_loader, means=test_means)"
   ]
  },
  {
   "cell_type": "markdown",
   "id": "828c6e12",
   "metadata": {},
   "source": [
    "### Compute metrics\n",
    "In classification, the predictive mode is a prediction for labels, while the predictive mean is a prediction for the probability of each label. As such, we can use these to compute several metrics, e.g. the accuracy, the Brier score, the expected calibration error (ECE), etc."
   ]
  },
  {
   "cell_type": "code",
   "execution_count": null,
   "id": "d57c4645",
   "metadata": {},
   "outputs": [],
   "source": [
    "from fortuna.metric.classification import accuracy, expected_calibration_error, brier_score\n",
    "test_targets = test_data_loader.to_array_targets()\n",
    "acc = accuracy(preds=test_modes, targets=test_targets)\n",
    "brier = brier_score(probs=test_means, targets=test_targets)\n",
    "ece = expected_calibration_error(preds=test_modes, probs=test_means, targets=test_targets, plot=True, figsize=(10, 2))\n",
    "print(f\"Test accuracy: {acc}\")\n",
    "print(f\"Brier score: {brier}\")\n",
    "print(f\"ECE: {ece}\")"
   ]
  },
  {
   "cell_type": "markdown",
   "id": "a845beca",
   "metadata": {},
   "source": [
    "### Conformal prediction sets\n",
    "Fortuna allows to produce conformal prediction sets, that are sets of likely labels up to some coverage probability threshold. These can be computed starting from probability estimates obtained with or without Fortuna."
   ]
  },
  {
   "cell_type": "code",
   "execution_count": null,
   "id": "0ba2ea5a",
   "metadata": {},
   "outputs": [],
   "source": [
    "from fortuna.conformer.classification import AdaptivePredictionConformalClassifier\n",
    "val_means = prob_model.predictive.mean(inputs_loader=val_data_loader.to_inputs_loader())\n",
    "conformal_sets = AdaptivePredictionConformalClassifier().conformal_set(\n",
    "    val_probs=val_means, test_probs=test_means, val_targets=val_data_loader.to_array_targets()\n",
    ")"
   ]
  },
  {
   "cell_type": "markdown",
   "id": "218c90d5",
   "metadata": {},
   "source": [
    "We can check that, on average, conformal sets for misclassified inputs are larger than for well classified ones. This confirms the intuition that the model should be more uncertain when it is wrong."
   ]
  },
  {
   "cell_type": "code",
   "execution_count": null,
   "id": "93505338",
   "metadata": {},
   "outputs": [],
   "source": [
    "import numpy as np\n",
    "avg_size = np.mean([len(s) for s in np.array(conformal_sets, dtype='object')])\n",
    "avg_size_wellclassified = np.mean([len(s) for s in np.array(conformal_sets, dtype='object')[test_modes == test_targets]])\n",
    "avg_size_misclassified = np.mean([len(s) for s in np.array(conformal_sets, dtype='object')[test_modes != test_targets]])\n",
    "print(f\"Average conformal set size: {avg_size}\")\n",
    "print(f\"Average conformal set size over well classified input: {avg_size_wellclassified}\")\n",
    "print(f\"Average conformal set size over misclassified input: {avg_size_misclassified}\")"
   ]
  },
  {
   "cell_type": "markdown",
   "id": "85c6d5d1",
   "metadata": {
    "pycharm": {
     "name": "#%% md\n"
    }
   },
   "source": [
    "### What if we had had model outputs to start from?"
   ]
  },
  {
   "cell_type": "markdown",
   "id": "3bc1ba27",
   "metadata": {
    "pycharm": {
     "name": "#%% md\n"
    }
   },
   "source": [
    "If you have already trained an MNIST model and obtained model outputs, you can still use Fortuna to calibrate them, and estimate uncertainty. For educational purposes only, let us take the logarithm of the predictive mean estimated above as model outputs, and pretend these were generated with some other framework. Furthermore, we store arrays of validation and test target variables, and assume these were also given."
   ]
  },
  {
   "cell_type": "code",
   "execution_count": null,
   "id": "a5d259dd",
   "metadata": {
    "pycharm": {
     "name": "#%%\n"
    }
   },
   "outputs": [],
   "source": [
    "import numpy as np\n",
    "val_outputs = np.log(val_means)\n",
    "test_outputs = np.log(test_means)\n",
    "\n",
    "val_targets = val_data_loader.to_array_targets()\n",
    "test_targets = test_data_loader.to_array_targets()"
   ]
  },
  {
   "cell_type": "markdown",
   "id": "6ff4accf",
   "metadata": {
    "pycharm": {
     "name": "#%% md\n"
    }
   },
   "source": [
    "We now invoke a calibration classifier, with default temperature scaling output calibrator, and calibrate the model outputs."
   ]
  },
  {
   "cell_type": "code",
   "execution_count": null,
   "id": "fd91e1ec",
   "metadata": {
    "pycharm": {
     "name": "#%%\n"
    }
   },
   "outputs": [],
   "source": [
    "from fortuna.calib_model.classification import CalibClassifier\n",
    "calib_model = CalibClassifier()\n",
    "calib_status = calib_model.calibrate(outputs=val_outputs, targets=val_targets)"
   ]
  },
  {
   "cell_type": "markdown",
   "id": "962289cc",
   "metadata": {
    "pycharm": {
     "name": "#%% md\n"
    }
   },
   "source": [
    "Similarly as above, we can now compute predictive statistics."
   ]
  },
  {
   "cell_type": "code",
   "execution_count": null,
   "id": "23071099",
   "metadata": {
    "pycharm": {
     "name": "#%%\n"
    }
   },
   "outputs": [],
   "source": [
    "test_log_probs = calib_model.predictive.log_prob(outputs=test_outputs, targets=test_targets)\n",
    "test_means = calib_model.predictive.mean(outputs=test_outputs)\n",
    "test_modes = calib_model.predictive.mode(outputs=test_outputs)"
   ]
  },
  {
   "cell_type": "markdown",
   "id": "269aa9da",
   "metadata": {
    "pycharm": {
     "name": "#%% md\n"
    }
   },
   "source": [
    "Then one can compute metrics and conformal intervals, exactly as done above."
   ]
  }
 ],
 "metadata": {
  "kernelspec": {
   "display_name": "fortunaenv",
   "language": "python",
   "name": "fortunaenv"
  },
  "language_info": {
   "codemirror_mode": {
    "name": "ipython",
    "version": 3
   },
   "file_extension": ".py",
   "mimetype": "text/x-python",
   "name": "python",
   "nbconvert_exporter": "python",
   "pygments_lexer": "ipython3",
   "version": "3.8.8"
  }
 },
 "nbformat": 4,
 "nbformat_minor": 5
}