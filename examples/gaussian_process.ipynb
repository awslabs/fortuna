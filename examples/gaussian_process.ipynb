{
 "cells": [
  {
   "cell_type": "code",
   "execution_count": 1,
   "metadata": {},
   "outputs": [
    {
     "name": "stdout",
     "output_type": "stream",
     "text": [
      "The autoreload extension is already loaded. To reload it, use:\n",
      "  %reload_ext autoreload\n"
     ]
    }
   ],
   "source": [
    "%load_ext autoreload\n",
    "%autoreload 2"
   ]
  },
  {
   "cell_type": "code",
   "execution_count": 13,
   "metadata": {},
   "outputs": [],
   "source": [
    "from fortuna.prob_model.posterior.gaussian_process.kernel import RBF\n",
    "from fortuna.prob_model.posterior.gaussian_process.gp import GP, Gaussian, MarginalLogLikelihood\n",
    "import jax.numpy as jnp \n",
    "import jax.random as jr \n",
    "import matplotlib.pyplot as plt\n",
    "from mpl_toolkits.axes_grid1 import make_axes_locatable\n",
    "\n",
    "key = jr.PRNGKey(123)"
   ]
  },
  {
   "cell_type": "code",
   "execution_count": 5,
   "metadata": {},
   "outputs": [],
   "source": [
    "def matshow_subplots(fig, ax, matrix):\n",
    "    im = ax.matshow(matrix)\n",
    "    divider = make_axes_locatable(ax)\n",
    "    cax = divider.append_axes(\"right\", size=\"5%\", pad=0.05)\n",
    "    fig.colorbar(im, cax=cax, orientation='vertical')\n",
    "    return fig, ax "
   ]
  },
  {
   "cell_type": "code",
   "execution_count": 11,
   "metadata": {},
   "outputs": [
    {
     "data": {
      "text/plain": [
       "Text(0.5, 1.0, '$K_{ff} + \\\\sigma^2$')"
      ]
     },
     "execution_count": 11,
     "metadata": {},
     "output_type": "execute_result"
    },
    {
     "data": {
      "image/png": "[encoded data removed]",
      "text/plain": [
       "<Figure size 600x300 with 4 Axes>"
      ]
     },
     "metadata": {},
     "output_type": "display_data"
    }
   ],
   "source": [
    "x = jnp.linspace(-3., 3., 10).reshape(-1, 1)\n",
    "\n",
    "kernel = RBF()\n",
    "variables = kernel.init(key, x)\n",
    "\n",
    "Kff = kernel.apply(variables, x)\n",
    "\n",
    "lik = Gaussian()\n",
    "lvariables = lik.init(key, Kff)\n",
    "\n",
    "sigmaKff = lik.apply(lvariables, Kff)\n",
    "\n",
    "fig, (ax0, ax1) = plt.subplots(ncols=2, figsize=(6, 3), tight_layout=True)\n",
    "[matshow_subplots(fig, a, m) for a, m in zip([ax0, ax1], [Kff, sigmaKff])]\n",
    "ax0.set_title(r'$K_{ff}$')\n",
    "ax1.set_title(r'$K_{ff} + \\sigma^2$')"
   ]
  },
  {
   "attachments": {},
   "cell_type": "markdown",
   "metadata": {},
   "source": [
    "# Proposed API\n",
    "\n",
    "## High-level questions 9/3\n",
    "\n",
    "- Can I access the variables as a dict within `__call__`? \n",
    "  - If so, would it make sense to define `kernel_fn` with inputs `xi, yj, **params`?\n",
    "- Any thoughts on how we handle transformations/parameters' meta information?\n",
    "- How can other Flax modules be accessed inside one another?\n",
    "- What is the difference between using `@nn.compact` and `setup` in Flax?"
   ]
  },
  {
   "cell_type": "code",
   "execution_count": 14,
   "metadata": {},
   "outputs": [
    {
     "ename": "AttributeError",
     "evalue": "'Array' object has no attribute 'items'",
     "output_type": "error",
     "traceback": [
      "\u001b[0;31m---------------------------------------------------------------------------\u001b[0m",
      "\u001b[0;31mAttributeError\u001b[0m                            Traceback (most recent call last)",
      "Cell \u001b[0;32mIn[14], line 3\u001b[0m\n\u001b[1;32m      1\u001b[0m gaussian_process \u001b[39m=\u001b[39m GP(RBF())\n\u001b[0;32m----> 3\u001b[0m variables \u001b[39m=\u001b[39m gaussian_process\u001b[39m.\u001b[39;49minit(key, x, jnp\u001b[39m.\u001b[39;49mzeros(x\u001b[39m.\u001b[39;49mshape[\u001b[39m0\u001b[39;49m]), x)\n\u001b[1;32m      5\u001b[0m objective_fn \u001b[39m=\u001b[39m MarginalLogLikelihood(gaussian_process)\n",
      "    \u001b[0;31m[... skipping hidden 9 frame]\u001b[0m\n",
      "File \u001b[0;32m~/Documents/fortuna/fortuna/prob_model/posterior/gaussian_process/gp.py:25\u001b[0m, in \u001b[0;36mGP.__call__\u001b[0;34m(self, xtrain, ytrain, xtest)\u001b[0m\n\u001b[1;32m     22\u001b[0m \u001b[39m@nn\u001b[39m\u001b[39m.\u001b[39mcompact\n\u001b[1;32m     23\u001b[0m \u001b[39mdef\u001b[39;00m \u001b[39m__call__\u001b[39m(\u001b[39mself\u001b[39m, xtrain, ytrain, xtest):\n\u001b[1;32m     24\u001b[0m     \u001b[39m# TODO: How do we compute the kernel here?\u001b[39;00m\n\u001b[0;32m---> 25\u001b[0m     Kff \u001b[39m=\u001b[39m \u001b[39mself\u001b[39;49m\u001b[39m.\u001b[39;49mkernel\u001b[39m.\u001b[39;49mapply(xtrain) \u001b[39m# pseudo\u001b[39;00m\n\u001b[1;32m     26\u001b[0m     \u001b[39m# Stabilise the covariance matrix\u001b[39;00m\n\u001b[1;32m     27\u001b[0m     Kff \u001b[39m+\u001b[39m\u001b[39m=\u001b[39m jnp\u001b[39m.\u001b[39meye(xtrain\u001b[39m.\u001b[39mshape[\u001b[39m0\u001b[39m]) \u001b[39m*\u001b[39m \u001b[39m1e-6\u001b[39m\n",
      "    \u001b[0;31m[... skipping hidden 4 frame]\u001b[0m\n",
      "File \u001b[0;32m~/miniforge3/envs/fortuna/lib/python3.10/site-packages/flax/core/scope.py:965\u001b[0m, in \u001b[0;36m_is_valid_variables\u001b[0;34m(variables)\u001b[0m\n\u001b[1;32m    956\u001b[0m \u001b[39mdef\u001b[39;00m \u001b[39m_is_valid_variables\u001b[39m(variables: VariableDict) \u001b[39m-\u001b[39m\u001b[39m>\u001b[39m \u001b[39mbool\u001b[39m:\n\u001b[1;32m    957\u001b[0m \u001b[39m  \u001b[39m\u001b[39m\"\"\"Checks whether the given variable dict is valid.\u001b[39;00m\n\u001b[1;32m    958\u001b[0m \n\u001b[1;32m    959\u001b[0m \u001b[39m  Args:\u001b[39;00m\n\u001b[0;32m   (...)\u001b[0m\n\u001b[1;32m    963\u001b[0m \u001b[39m    True if `variables` is a valid variable dict.\u001b[39;00m\n\u001b[1;32m    964\u001b[0m \u001b[39m  \"\"\"\u001b[39;00m\n\u001b[0;32m--> 965\u001b[0m   \u001b[39mfor\u001b[39;00m name, col \u001b[39min\u001b[39;00m variables\u001b[39m.\u001b[39;49mitems():\n\u001b[1;32m    966\u001b[0m     \u001b[39mif\u001b[39;00m \u001b[39mnot\u001b[39;00m \u001b[39misinstance\u001b[39m(name, \u001b[39mstr\u001b[39m):\n\u001b[1;32m    967\u001b[0m       \u001b[39mreturn\u001b[39;00m \u001b[39mFalse\u001b[39;00m\n",
      "\u001b[0;31mAttributeError\u001b[0m: 'Array' object has no attribute 'items'"
     ]
    }
   ],
   "source": [
    "gaussian_process = SparseGP(RBF(), InducingPoints())\n",
    "\n",
    "variables = gaussian_process.init(key, x, jnp.zeros(x.shape[0]), x)\n",
    "\n",
    "objective_fn = MarginalLogLikelihood(gaussian_process)\n",
    "objective_fn = VariationalObj(gaussian_process)\n",
    "\n",
    "# posterior_approximator=GaussianProcessPosteriorApproximator(objective_fn=...)"
   ]
  },
  {
   "cell_type": "code",
   "execution_count": null,
   "metadata": {},
   "outputs": [],
   "source": []
  }
 ],
 "metadata": {
  "kernelspec": {
   "display_name": "fortuna",
   "language": "python",
   "name": "fortuna"
  },
  "language_info": {
   "codemirror_mode": {
    "name": "ipython",
    "version": 3
   },
   "file_extension": ".py",
   "mimetype": "text/x-python",
   "name": "python",
   "nbconvert_exporter": "python",
   "pygments_lexer": "ipython3",
   "version": "3.10.9"
  },
  "orig_nbformat": 4
 },
 "nbformat": 4,
 "nbformat_minor": 2
}
